{
 "cells": [
  {
   "cell_type": "markdown",
   "id": "c25c3681-38d7-4659-b64d-117839ffb5a8",
   "metadata": {},
   "source": [
    "<h1>2. Boundary Nodes</h1>\n",
    "<blockquote>\n",
    "    This notebook is divided into 2 sections.\n",
    "    Section 1 uses the Overpass API to obtain the nodes of the boundary and save them to a .osm (xml) file.\n",
    "    Section 2 saves the lat, lon of each node in the boundary in a csv file.\n",
    "</blockquote>"
   ]
  },
  {
   "cell_type": "code",
   "execution_count": 1,
   "id": "54629f8c-d2d9-4a2e-b2a6-ec40c1ed357d",
   "metadata": {},
   "outputs": [],
   "source": [
    "import csv\n",
    "import requests\n",
    "import os\n",
    "import osmium as o\n",
    "import xml.etree.ElementTree as ET\n",
    "import xmltodict"
   ]
  },
  {
   "cell_type": "markdown",
   "id": "8fca825c-f6fa-4331-8073-fae27263c975",
   "metadata": {},
   "source": [
    ">Enter the OSM Relation ID of the boundary below. "
   ]
  },
  {
   "cell_type": "code",
   "execution_count": 2,
   "id": "f0f65f75-c066-4961-8d63-a05c4e229631",
   "metadata": {},
   "outputs": [],
   "source": [
    "# User Overpass API to get the nodes of an osm boundary given the boundary's Relation ID\n",
    "boundary_rel_id = 4136816  # OSM Relation ID of boundary\n",
    "initial_boundary_file = f'{boundary_rel_id}_boundary_nodes.osm'  # nodes only\n",
    "boundary_nodes_lat_lon = f'{boundary_rel_id}_boundary_nodes.csv'\n",
    "overpass_url = \"http://overpass-api.de/api/interpreter\"\n",
    "overpass_query = f'[out:xml];(rel(id:{boundary_rel_id})->.a;way(r.a)->.b;node(w.b)->.c;);.c out geom;'"
   ]
  },
  {
   "cell_type": "markdown",
   "id": "ee3103eb-6054-49a2-b6f7-876fdfdcbc99",
   "metadata": {},
   "source": [
    "<h2>Section 1. Boundary Nodes in XML Using Overpass API</h2>\n",
    "<blockquote>\n",
    "    Only the nodes of the boundary are saved in the .osm (xml) file.\n",
    "</blockquote>"
   ]
  },
  {
   "cell_type": "code",
   "execution_count": 5,
   "id": "ffdc14f6-09ef-472f-b05b-a2a8179ea7a3",
   "metadata": {},
   "outputs": [],
   "source": [
    "response = requests.get(overpass_url, params={'data': overpass_query})\n",
    "tree = ET.fromstring(response.content)\n",
    "with open(initial_boundary_file, \"wb\") as f:\n",
    "    f.write(ET.tostring(tree))"
   ]
  },
  {
   "cell_type": "markdown",
   "id": "6075ca4f-bd18-4cc3-8fdb-1cb525e49b76",
   "metadata": {},
   "source": [
    "<h2>Section 2. Lat, Lon of Boundary Nodes</h2>\n",
    "<blockquote>\n",
    "    Output is a csv containing lat, lon of each node in the boundary.\n",
    "</blockquote>"
   ]
  },
  {
   "cell_type": "code",
   "execution_count": 6,
   "id": "c2c4c619-e46c-45b4-ac20-eb05673b7d41",
   "metadata": {},
   "outputs": [],
   "source": [
    "tree = ET.parse(initial_boundary_file)\n",
    "xml_data = tree.getroot()\n",
    "xmlstr = ET.tostring(xml_data, encoding='utf8', method='xml')\n",
    "data_dict = dict(xmltodict.parse(xmlstr))['osm']['node']\n",
    "list_data_dict = [{'lat':float(r['@lat']), 'lon':float(r['@lon'])} for r in data_dict]\n",
    "keys = list_data_dict[0].keys()\n",
    "with open(boundary_nodes_lat_lon, 'w', newline='') as output_file:\n",
    "    dict_writer = csv.DictWriter(output_file, keys, extrasaction='ignore')\n",
    "    dict_writer.writeheader()\n",
    "    dict_writer.writerows(list_data_dict)"
   ]
  },
  {
   "cell_type": "code",
   "execution_count": null,
   "id": "430af2c8-6251-4756-afd6-6760c4f3f66e",
   "metadata": {},
   "outputs": [],
   "source": []
  }
 ],
 "metadata": {
  "kernelspec": {
   "display_name": "Python 3",
   "language": "python",
   "name": "python3"
  },
  "language_info": {
   "codemirror_mode": {
    "name": "ipython",
    "version": 3
   },
   "file_extension": ".py",
   "mimetype": "text/x-python",
   "name": "python",
   "nbconvert_exporter": "python",
   "pygments_lexer": "ipython3",
   "version": "3.8.8"
  }
 },
 "nbformat": 4,
 "nbformat_minor": 5
}
