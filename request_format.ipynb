{
 "cells": [
  {
   "cell_type": "markdown",
   "id": "b0f6e142-289b-4b4b-9b63-adb7ea972fc7",
   "metadata": {},
   "source": [
    "<h1>5. Format Request CSVs</h1>\n",
    "<blockquote>\n",
    "    This script takes the output of inside_polygon.ipynb as input and produces a CSV file for each unique tag. The output CSV files are in the format used by the image request client.\n",
    "</blockquote>"
   ]
  },
  {
   "cell_type": "code",
   "execution_count": 1,
   "id": "8d13428a-1b4d-4fb4-a90b-9714a0608429",
   "metadata": {},
   "outputs": [],
   "source": [
    "import csv"
   ]
  },
  {
   "cell_type": "markdown",
   "id": "60e162f5-0288-4e28-8c68-44c3216b84fb",
   "metadata": {},
   "source": [
    "<blockquote>\n",
    "    Address Formatting\n",
    "</blockquote>"
   ]
  },
  {
   "cell_type": "code",
   "execution_count": 2,
   "id": "8f69411f-7b18-4d6c-8b87-3f0c555cff2b",
   "metadata": {},
   "outputs": [],
   "source": [
    "def get_city():\n",
    "\t#this method currently only returns Ottawa but in future implimentations might get the city based off the address\n",
    "\treturn \"Ottawa\"\n",
    "\n",
    "def get_province():\n",
    "\t#this method currently only returns Ottawa but in future implimentations might get the city based off the address\n",
    "\treturn \"Ontario\"\n",
    "\n",
    "def concatenate_address(file):\n",
    "\td = dict()\n",
    "\tf = open(file)\n",
    "\tnext(f)\n",
    "\tfor line in f:\n",
    "\t\tline = line.strip('\\n')\n",
    "\t\t(addr_house, addr_street, building) = line.split(\",\")\n",
    "\t\taddr = addr_house + \" \" + addr_street + \", \" + get_city() + \", \" + get_province()\n",
    "\t\tif(addr in d):\n",
    "\t\t\td[addr] = d[addr] + \", \" + building\n",
    "\t\telse:\n",
    "\t\t\td[addr] = building\n",
    "\n",
    "\twith open('dict.csv', 'w', newline='') as csv_file:\n",
    "\t\twriter = csv.writer(csv_file)\n",
    "\t\twriter.writerow([\"building_address\", \"building_type\"])\n",
    "\t\tfor addr, building in d.items():\n",
    "\t\t\twriter.writerow([addr, building])\n",
    "\n",
    "concatenate_address(\"addresses_inside_polygon.csv\")"
   ]
  },
  {
   "cell_type": "code",
   "execution_count": 3,
   "id": "01385001-f81e-42e8-b8d2-304dd228db66",
   "metadata": {},
   "outputs": [],
   "source": [
    "with open('dict.csv') as fin:    \n",
    "    csvin = csv.DictReader(fin)\n",
    "    # Category -> open file lookup\n",
    "    outputs = {}\n",
    "    for row in csvin:\n",
    "        cat = row['building_type']\n",
    "        # Open a new file and write the header\n",
    "        if cat not in outputs:\n",
    "            fout = open('{}.csv'.format(cat), 'w', newline='')\n",
    "            dw = csv.DictWriter(fout, fieldnames=csvin.fieldnames)\n",
    "            dw.writeheader()\n",
    "            outputs[cat] = fout, dw\n",
    "        # Always write the row\n",
    "        outputs[cat][1].writerow(row)\n",
    "    # Close all the files\n",
    "    for fout, _ in outputs.values():\n",
    "        fout.close()"
   ]
  },
  {
   "cell_type": "code",
   "execution_count": null,
   "id": "08c2abd5-8fea-4b1c-82f8-d4879dd16571",
   "metadata": {},
   "outputs": [],
   "source": []
  }
 ],
 "metadata": {
  "kernelspec": {
   "display_name": "Python 3",
   "language": "python",
   "name": "python3"
  },
  "language_info": {
   "codemirror_mode": {
    "name": "ipython",
    "version": 3
   },
   "file_extension": ".py",
   "mimetype": "text/x-python",
   "name": "python",
   "nbconvert_exporter": "python",
   "pygments_lexer": "ipython3",
   "version": "3.8.8"
  }
 },
 "nbformat": 4,
 "nbformat_minor": 5
}
