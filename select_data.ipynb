{
 "cells": [
  {
   "cell_type": "code",
   "execution_count": null,
   "id": "fcdb8f1b-b285-4bf1-aefd-44c767edc639",
   "metadata": {},
   "outputs": [],
   "source": [
    "import requests\n",
    "import json\n",
    "from xml.etree import ElementTree"
   ]
  },
  {
   "cell_type": "code",
   "execution_count": null,
   "id": "c790051a-3d73-4770-9220-2d97592f9675",
   "metadata": {},
   "outputs": [],
   "source": [
    "output_filename = 'overpass_output.xml'\n",
    "\n",
    "overpass_url = \"http://overpass-api.de/api/interpreter\"\n",
    "\n",
    "# sample\n",
    "# Ottawa area: 3604136816\n",
    "overpass_query = \"\"\"\n",
    "[out:xml];\n",
    "(\n",
    "  nwr(45.41316, -76.01269, 45.41388, -76.01202);\n",
    "  node(w);\n",
    ");\n",
    "out geom;\n",
    "\"\"\""
   ]
  },
  {
   "cell_type": "code",
   "execution_count": null,
   "id": "a29722e7-6011-4e18-83ee-7991a3feda7e",
   "metadata": {},
   "outputs": [],
   "source": [
    "with requests.get(overpass_url, params={'data': overpass_query}, stream=True) as r:\n",
    "    r.raise_for_status()\n",
    "    with open(output_filename, 'wb') as f:\n",
    "        for chunk in r.iter_content(chunk_size=8192): \n",
    "            f.write(chunk)"
   ]
  }
 ],
 "metadata": {
  "kernelspec": {
   "display_name": "Python 3",
   "language": "python",
   "name": "python3"
  },
  "language_info": {
   "codemirror_mode": {
    "name": "ipython",
    "version": 3
   },
   "file_extension": ".py",
   "mimetype": "text/x-python",
   "name": "python",
   "nbconvert_exporter": "python",
   "pygments_lexer": "ipython3",
   "version": "3.8.8"
  }
 },
 "nbformat": 4,
 "nbformat_minor": 5
}
