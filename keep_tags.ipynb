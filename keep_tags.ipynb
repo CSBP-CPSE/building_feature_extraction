{
 "cells": [
  {
   "cell_type": "markdown",
   "id": "f04996d6-d90a-42e3-bbc1-1ba18398c29d",
   "metadata": {},
   "source": [
    "<h1>3. Extract Ways and Geotag</h1>\n",
    "<blockquote>\n",
    "    This script takes a .osm file containing <u>all</u> OSM data (nodes, ways, and relations) in a region.\n",
    "    The output is a CSV file of geotagged addresses gathered from ways in the input file that had tags matching those provided in a .json file.\n",
    "</blockquote>"
   ]
  },
  {
   "cell_type": "code",
   "execution_count": 1,
   "id": "b3cc5d33-df3e-4e21-a63f-90d3e196d4df",
   "metadata": {},
   "outputs": [],
   "source": [
    "import csv\n",
    "import json\n",
    "import osmium as o\n",
    "from pyproj import Proj, itransform\n",
    "from shapely import wkt\n",
    "from shapely.geometry import LineString\n",
    "import sys"
   ]
  },
  {
   "cell_type": "markdown",
   "id": "942c1315-b62b-4892-885e-0c49a8f1c1a1",
   "metadata": {},
   "source": [
    "<h4>Input Filenames and Geocoordinates Projection</h4>\n",
    "<blockquote>\n",
    "    geocoordinates of the nodes in a way are projected to compute a centroid. The centroid is saved in geocoordinates as the location of the way.\n",
    "</blockquote>"
   ]
  },
  {
   "cell_type": "code",
   "execution_count": 2,
   "id": "a21f6e70-4d73-4471-ac3b-701058ac6d4a",
   "metadata": {},
   "outputs": [
    {
     "name": "stdout",
     "output_type": "stream",
     "text": [
      "Looking for tags:  ['apartments', 'bungalow', 'cabin', 'detached', 'farm', 'hotel', 'house', 'semidetached_house', 'static_caravan', 'terrace', 'cathedral', 'chapel', 'church', 'monastery', 'mosque', 'temple']\n"
     ]
    }
   ],
   "source": [
    "# Input and output files\n",
    "input_osm_data = 'map.osm'\n",
    "input_keep_tags = 'keep_tags.json'\n",
    "output_addresses = 'geotagged_addresses.csv'\n",
    "with open(input_keep_tags) as f:\n",
    "    map_features = json.load(f)\n",
    "accepted_building_types = [subtype for sublist in map_features.values() for subtype in sublist]\n",
    "print('Looking for tags: ', accepted_building_types)\n",
    "\n",
    "# Geocoordinates projection\n",
    "p1 = Proj('+init=epsg:4326')\n",
    "p2 = Proj('+proj=lcc +lon_0=-456.6796875 +lat_1=48.4823944 +lat_2=81.6964789 +lat_0=65.0894367 +datum=WGS84 +units=m +no_defs')  # conformal projection\n",
    "# transformer = Transformer.from_crs(CRS('WGS84'), CRS(out_projection))"
   ]
  },
  {
   "cell_type": "markdown",
   "id": "96bf5174-7f70-4024-b742-735258ed9fc5",
   "metadata": {},
   "source": [
    "<h4>Geotagged Ways to CSV</h4>"
   ]
  },
  {
   "cell_type": "code",
   "execution_count": 3,
   "id": "b5d87f05-63cb-4afb-850d-27862ff701bd",
   "metadata": {},
   "outputs": [],
   "source": [
    "class LocationHandler(o.SimpleHandler):\n",
    "    def __init__(self, writer):\n",
    "        super(LocationHandler, self).__init__()\n",
    "        self.writer = writer\n",
    "        \n",
    "    def way_centroid(self, w):\n",
    "        nodes_lnglat = list(wkt.loads(wkt_factory.create_linestring(w.nodes)).coords)\n",
    "        nodes_xy = [node for node in itransform(p1, p2, nodes_lnglat, switch=True)]\n",
    "        centroid_xy = LineString(nodes_xy).centroid\n",
    "        centroid_xy = (round(centroid_xy.x, 7), round(centroid_xy.y, 7))\n",
    "        centroid_latlng = p2(centroid_xy[1], centroid_xy[0], inverse=True)\n",
    "        return centroid_latlng\n",
    "\n",
    "    def way(self, w):\n",
    "        if w.tags.get('building') in accepted_building_types:\n",
    "            location_dict = {tag.k:tag.v for tag in w.tags}\n",
    "            way_centroid = self.way_centroid(w)\n",
    "            location_dict['latitude'] = round(way_centroid[0], 7)\n",
    "            location_dict['longitude'] = round(way_centroid[1], 7)\n",
    "            writer.writerow(location_dict)"
   ]
  },
  {
   "cell_type": "code",
   "execution_count": 4,
   "id": "e0949b61-43cb-43bf-aee3-5b205a81c027",
   "metadata": {},
   "outputs": [],
   "source": [
    "with open(output_addresses, 'w', newline='') as csvfile:\n",
    "    wkt_factory = o.geom.WKTFactory()\n",
    "    fieldnames = ['latitude', 'longitude', 'addr:housenumber', 'addr:street', 'building']\n",
    "    writer = csv.DictWriter(csvfile, fieldnames=fieldnames, extrasaction='ignore')\n",
    "    writer.writeheader()\n",
    "    l = LocationHandler(writer)\n",
    "    l.apply_file(input_osm_data, locations=True)"
   ]
  },
  {
   "cell_type": "code",
   "execution_count": null,
   "id": "634558a9-f451-49e9-bf9e-5b7b28345801",
   "metadata": {},
   "outputs": [],
   "source": []
  }
 ],
 "metadata": {
  "kernelspec": {
   "display_name": "Python 3",
   "language": "python",
   "name": "python3"
  },
  "language_info": {
   "codemirror_mode": {
    "name": "ipython",
    "version": 3
   },
   "file_extension": ".py",
   "mimetype": "text/x-python",
   "name": "python",
   "nbconvert_exporter": "python",
   "pygments_lexer": "ipython3",
   "version": "3.8.8"
  }
 },
 "nbformat": 4,
 "nbformat_minor": 5
}
