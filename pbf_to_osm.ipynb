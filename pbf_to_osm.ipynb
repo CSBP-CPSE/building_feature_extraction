{
 "cells": [
  {
   "cell_type": "code",
   "execution_count": 1,
   "id": "dd5fb6f0-6e92-45b7-8bbe-0843f56a02b7",
   "metadata": {},
   "outputs": [],
   "source": [
    "import osmium as o"
   ]
  },
  {
   "cell_type": "code",
   "execution_count": null,
   "id": "786a68ce-6845-4dbf-88e8-ed061aedd268",
   "metadata": {},
   "outputs": [],
   "source": [
    "input_file = 'ontario-latest.osm.pbf'\n",
    "output_file = 'ontario-latest.osm'"
   ]
  },
  {
   "cell_type": "code",
   "execution_count": 2,
   "id": "65f34819-45ad-44a5-b487-a5d0b9b0ad43",
   "metadata": {},
   "outputs": [],
   "source": [
    "class Convert(o.SimpleHandler):\n",
    "\n",
    "    def __init__(self, writer):\n",
    "        super(Convert, self).__init__()\n",
    "        self.writer = writer\n",
    "\n",
    "    def node(self, n):\n",
    "        self.writer.add_node(n)\n",
    "\n",
    "    def way(self, w):\n",
    "        self.writer.add_way(w)\n",
    "\n",
    "    def relation(self, r):\n",
    "        self.writer.add_relation(r)"
   ]
  },
  {
   "cell_type": "code",
   "execution_count": null,
   "id": "511f7677-f966-47ef-b5ac-04be253645cb",
   "metadata": {},
   "outputs": [],
   "source": [
    "writer = o.SimpleWriter(output_file)\n",
    "handler = Convert(writer)\n",
    "handler.apply_file(input_file)\n",
    "writer.close()"
   ]
  }
 ],
 "metadata": {
  "kernelspec": {
   "display_name": "Python 3",
   "language": "python",
   "name": "python3"
  },
  "language_info": {
   "codemirror_mode": {
    "name": "ipython",
    "version": 3
   },
   "file_extension": ".py",
   "mimetype": "text/x-python",
   "name": "python",
   "nbconvert_exporter": "python",
   "pygments_lexer": "ipython3",
   "version": "3.8.8"
  }
 },
 "nbformat": 4,
 "nbformat_minor": 5
}
